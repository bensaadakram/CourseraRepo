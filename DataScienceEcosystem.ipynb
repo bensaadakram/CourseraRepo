{
  "nbformat": 4,
  "nbformat_minor": 0,
  "metadata": {
    "colab": {
      "provenance": []
    },
    "kernelspec": {
      "name": "python3",
      "display_name": "Python 3"
    },
    "language_info": {
      "name": "python"
    }
  },
  "cells": [
    {
      "cell_type": "markdown",
      "source": [
        "# Data Science Tools and Ecosystem"
      ],
      "metadata": {
        "id": "03FgCIzDZJ85"
      }
    },
    {
      "cell_type": "markdown",
      "source": [
        "## In this notebook, Data Science Tools and Ecosystem are summarized."
      ],
      "metadata": {
        "id": "u2QZwPsdZZPj"
      }
    },
    {
      "cell_type": "markdown",
      "source": [
        "Some of the popular languages that Data Scientists use are:\n",
        "1. Python\n",
        "2. R\n",
        "3. SQL\n",
        "4. Julia\n",
        "\n",
        "\n",
        "\n",
        "\n"
      ],
      "metadata": {
        "id": "vpwvkF_3CgL3"
      }
    },
    {
      "cell_type": "markdown",
      "source": [],
      "metadata": {
        "id": "s_NdBsYCCvA9"
      }
    },
    {
      "cell_type": "markdown",
      "source": [
        "Some of the commonly used libraries used by Data Scientists include:\n",
        "1. Pandas\n",
        "2. NumPy\n",
        "3. Matplotlib\n",
        "4. Scikit-learn\n"
      ],
      "metadata": {
        "id": "CjvHghabDHiB"
      }
    },
    {
      "cell_type": "markdown",
      "source": [
        "| Data Science Tools       |\n",
        "|--------------------------|\n",
        "| Jupyter Notebook         |\n",
        "| RStudio                  |\n",
        "| Apache Zeppelin          |\n"
      ],
      "metadata": {
        "id": "KzkygpayDKxj"
      }
    },
    {
      "cell_type": "markdown",
      "source": [
        "### Below are a few examples of evaluating arithmetic expressions in Python.\n"
      ],
      "metadata": {
        "id": "wZ92Wog7DOzl"
      }
    },
    {
      "cell_type": "code",
      "source": [
        "# This a simple arithmetic expression to multiply then add integers\n",
        "(3*4)+5\n"
      ],
      "metadata": {
        "colab": {
          "base_uri": "https://localhost:8080/"
        },
        "id": "PLT2m_YjDaWi",
        "outputId": "9e7e8cff-f056-478e-b14e-e956866b8016"
      },
      "execution_count": 1,
      "outputs": [
        {
          "output_type": "execute_result",
          "data": {
            "text/plain": [
              "17"
            ]
          },
          "metadata": {},
          "execution_count": 1
        }
      ]
    },
    {
      "cell_type": "code",
      "source": [
        "# This will convert 200 minutes to hours by dividing by 60\n",
        "200 / 60\n"
      ],
      "metadata": {
        "colab": {
          "base_uri": "https://localhost:8080/"
        },
        "id": "m6CVU8haDhCY",
        "outputId": "67323c98-5088-4e1b-b58c-61d12b604656"
      },
      "execution_count": 2,
      "outputs": [
        {
          "output_type": "execute_result",
          "data": {
            "text/plain": [
              "3.3333333333333335"
            ]
          },
          "metadata": {},
          "execution_count": 2
        }
      ]
    },
    {
      "cell_type": "markdown",
      "source": [
        "**Objectives:**\n",
        "- List popular languages for Data Science.\n",
        "- Identify common libraries in Data Science.\n",
        "- Understand development tools for Data Science.\n",
        "- Perform basic arithmetic operations in Python.\n"
      ],
      "metadata": {
        "id": "-u8dQrqXDU9i"
      }
    },
    {
      "cell_type": "markdown",
      "source": [
        "## Author\n",
        "Akram Ben Saad\n"
      ],
      "metadata": {
        "id": "qtP2EbK_Dmri"
      }
    }
  ]
}